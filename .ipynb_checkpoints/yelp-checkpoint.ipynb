{
 "cells": [
  {
   "cell_type": "code",
   "execution_count": null,
   "metadata": {},
   "outputs": [],
   "source": [
    "#Read yelp tip data\n",
    "yelp_tip = spark.read\\\n",
    "  .format('csv')\\\n",
    "  .option('header', 'true')\\\n",
    "  .option('inferSchema', 'true')\\\n",
    "  .load('https://bigdataclasslhn.s3.amazonaws.com/Prj_Yelp/yelp_tip.csv')\n"
   ]
  },
  {
   "cell_type": "code",
   "execution_count": null,
   "metadata": {},
   "outputs": [],
   "source": [
    "#Start my SparkSession:\n",
    "import findspark\n",
    "findspark.init()\n",
    "from pyspark.sql import SparkSession\n",
    "spark = SparkSession.builder.appName(\"project\").getOrCreate()"
   ]
  },
  {
   "cell_type": "markdown",
   "metadata": {},
   "source": [
    "### Find all your Spark related environment variables, and pyspark:"
   ]
  },
  {
   "cell_type": "code",
   "execution_count": 1,
   "metadata": {},
   "outputs": [],
   "source": [
    "import findspark\n",
    "findspark.init()"
   ]
  },
  {
   "cell_type": "code",
   "execution_count": null,
   "metadata": {},
   "outputs": [],
   "source": [
    "##Create your SparkSession. You are only going to create a SparkSession, not a SparkContext."
   ]
  },
  {
   "cell_type": "code",
   "execution_count": 2,
   "metadata": {},
   "outputs": [],
   "source": [
    "from pyspark.sql import SparkSession\n",
    "spark = SparkSession.builder.appName(\"yelp\").getOrCreate()"
   ]
  },
  {
   "cell_type": "code",
   "execution_count": 3,
   "metadata": {},
   "outputs": [
    {
     "data": {
      "text/html": [
       "\n",
       "            <div>\n",
       "                <p><b>SparkSession - in-memory</b></p>\n",
       "                \n",
       "        <div>\n",
       "            <p><b>SparkContext</b></p>\n",
       "\n",
       "            <p><a href=\"http://ip-172-31-49-224.ec2.internal:4040\">Spark UI</a></p>\n",
       "\n",
       "            <dl>\n",
       "              <dt>Version</dt>\n",
       "                <dd><code>v2.4.3</code></dd>\n",
       "              <dt>Master</dt>\n",
       "                <dd><code>yarn</code></dd>\n",
       "              <dt>AppName</dt>\n",
       "                <dd><code>yelp</code></dd>\n",
       "            </dl>\n",
       "        </div>\n",
       "        \n",
       "            </div>\n",
       "        "
      ],
      "text/plain": [
       "<pyspark.sql.session.SparkSession at 0x7fa52803f5f8>"
      ]
     },
     "execution_count": 3,
     "metadata": {},
     "output_type": "execute_result"
    }
   ],
   "source": [
    "spark"
   ]
  },
  {
   "cell_type": "code",
   "execution_count": 4,
   "metadata": {},
   "outputs": [],
   "source": [
    "#Read yelp tip data\n",
    "yelp_business = spark.read\\\n",
    "  .format('csv')\\\n",
    "  .option('header', 'true')\\\n",
    "  .option('inferSchema', 'true')\\\n",
    "  .load('s3://bigdataclasslhn/Prj_Yelp/yelp_business.csv')"
   ]
  },
  {
   "cell_type": "code",
   "execution_count": 5,
   "metadata": {},
   "outputs": [
    {
     "name": "stdout",
     "output_type": "stream",
     "text": [
      "root\n",
      " |-- business_id: string (nullable = true)\n",
      " |-- name: string (nullable = true)\n",
      " |-- address: string (nullable = true)\n",
      " |-- city: string (nullable = true)\n",
      " |-- state: string (nullable = true)\n",
      " |-- postal_code: string (nullable = true)\n",
      " |-- latitude: double (nullable = true)\n",
      " |-- longitude: double (nullable = true)\n",
      " |-- stars: double (nullable = true)\n",
      " |-- review_count: double (nullable = true)\n",
      " |-- is_open: integer (nullable = true)\n",
      " |-- attributes.GoodForKids: string (nullable = true)\n",
      " |-- attributes.RestaurantsReservations: string (nullable = true)\n",
      " |-- attributes.GoodForMeal: string (nullable = true)\n",
      " |-- attributes.BusinessParking: string (nullable = true)\n",
      " |-- attributes.Caters: string (nullable = true)\n",
      " |-- attributes.NoiseLevel: string (nullable = true)\n",
      " |-- attributes.RestaurantsTableService: string (nullable = true)\n",
      " |-- attributes.RestaurantsTakeOut: string (nullable = true)\n",
      " |-- attributes.RestaurantsPriceRange2: string (nullable = true)\n",
      " |-- attributes.OutdoorSeating: string (nullable = true)\n",
      " |-- attributes.BikeParking: string (nullable = true)\n",
      " |-- attributes.Ambience: string (nullable = true)\n",
      " |-- attributes.HasTV: string (nullable = true)\n",
      " |-- attributes.WiFi: string (nullable = true)\n",
      " |-- attributes.Alcohol: string (nullable = true)\n",
      " |-- attributes.RestaurantsAttire: string (nullable = true)\n",
      " |-- attributes.RestaurantsGoodForGroups: string (nullable = true)\n",
      " |-- attributes.RestaurantsDelivery: string (nullable = true)\n",
      " |-- attributes.BusinessAcceptsCreditCards: string (nullable = true)\n",
      " |-- attributes.BusinessAcceptsBitcoin: string (nullable = true)\n",
      " |-- attributes.ByAppointmentOnly: string (nullable = true)\n",
      " |-- attributes.AcceptsInsurance: string (nullable = true)\n",
      " |-- attributes.Music: string (nullable = true)\n",
      " |-- attributes.GoodForDancing: string (nullable = true)\n",
      " |-- attributes.CoatCheck: string (nullable = true)\n",
      " |-- attributes.HappyHour: string (nullable = true)\n",
      " |-- attributes.BestNights: string (nullable = true)\n",
      " |-- attributes.WheelchairAccessible: string (nullable = true)\n",
      " |-- attributes.DogsAllowed: string (nullable = true)\n",
      " |-- attributes.BYOBCorkage: string (nullable = true)\n",
      " |-- attributes.DriveThru: string (nullable = true)\n",
      " |-- attributes.Smoking: string (nullable = true)\n",
      " |-- attributes.AgesAllowed: string (nullable = true)\n",
      " |-- attributes.HairSpecializesIn: string (nullable = true)\n",
      " |-- attributes.Corkage: string (nullable = true)\n",
      " |-- attributes.BYOB: string (nullable = true)\n",
      " |-- attributes.DietaryRestrictions: string (nullable = true)\n",
      " |-- attributes.Open24Hours: string (nullable = true)\n",
      " |-- attributes.RestaurantsCounterService: string (nullable = true)\n",
      " |-- categories: string (nullable = true)\n",
      " |-- hours.Monday: string (nullable = true)\n",
      " |-- hours.Tuesday: string (nullable = true)\n",
      " |-- hours.Wednesday: string (nullable = true)\n",
      " |-- hours.Thursday: string (nullable = true)\n",
      " |-- hours.Friday: string (nullable = true)\n",
      " |-- hours.Saturday: string (nullable = true)\n",
      " |-- hours.Sunday: string (nullable = true)\n",
      "\n"
     ]
    }
   ],
   "source": [
    "yelp_business.printSchema()"
   ]
  },
  {
   "cell_type": "code",
   "execution_count": 13,
   "metadata": {},
   "outputs": [
    {
     "name": "stdout",
     "output_type": "stream",
     "text": [
      "+--------------------+--------------------+--------------------+------------------+-----+-----------+--------+----------+-----+------------+-------+----------------------+----------------------------------+----------------------+--------------------------+-----------------+---------------------+----------------------------------+-----------------------------+---------------------------------+-------------------------+----------------------+-------------------+----------------+---------------+------------------+----------------------------+-----------------------------------+------------------------------+-------------------------------------+---------------------------------+----------------------------+---------------------------+------------------+-------------------------+--------------------+--------------------+---------------------+-------------------------------+----------------------+----------------------+--------------------+------------------+----------------------+----------------------------+------------------+--------------------+------------------------------+----------------------+------------------------------------+--------------------+------------------+-------------+---------------+--------------------+----------------+-----------------+----------------+\n",
      "|         business_id|                name|             address|              city|state|postal_code|latitude| longitude|stars|review_count|is_open|attributes.GoodForKids|attributes.RestaurantsReservations|attributes.GoodForMeal|attributes.BusinessParking|attributes.Caters|attributes.NoiseLevel|attributes.RestaurantsTableService|attributes.RestaurantsTakeOut|attributes.RestaurantsPriceRange2|attributes.OutdoorSeating|attributes.BikeParking|attributes.Ambience|attributes.HasTV|attributes.WiFi|attributes.Alcohol|attributes.RestaurantsAttire|attributes.RestaurantsGoodForGroups|attributes.RestaurantsDelivery|attributes.BusinessAcceptsCreditCards|attributes.BusinessAcceptsBitcoin|attributes.ByAppointmentOnly|attributes.AcceptsInsurance|  attributes.Music|attributes.GoodForDancing|attributes.CoatCheck|attributes.HappyHour|attributes.BestNights|attributes.WheelchairAccessible|attributes.DogsAllowed|attributes.BYOBCorkage|attributes.DriveThru|attributes.Smoking|attributes.AgesAllowed|attributes.HairSpecializesIn|attributes.Corkage|     attributes.BYOB|attributes.DietaryRestrictions|attributes.Open24Hours|attributes.RestaurantsCounterService|          categories|      hours.Monday|hours.Tuesday|hours.Wednesday|      hours.Thursday|    hours.Friday|   hours.Saturday|    hours.Sunday|\n",
      "+--------------------+--------------------+--------------------+------------------+-----+-----------+--------+----------+-----+------------+-------+----------------------+----------------------------------+----------------------+--------------------------+-----------------+---------------------+----------------------------------+-----------------------------+---------------------------------+-------------------------+----------------------+-------------------+----------------+---------------+------------------+----------------------------+-----------------------------------+------------------------------+-------------------------------------+---------------------------------+----------------------------+---------------------------+------------------+-------------------------+--------------------+--------------------+---------------------+-------------------------------+----------------------+----------------------+--------------------+------------------+----------------------+----------------------------+------------------+--------------------+------------------------------+----------------------+------------------------------------+--------------------+------------------+-------------+---------------+--------------------+----------------+-----------------+----------------+\n",
      "|1SWheh84yJXfytovI...|Arizona Biltmore ...|2818 E Camino Ace...|           Phoenix|   AZ|      85016|33.52214|-112.01848|  3.0|         5.0|      0|                 False|                                NA|                    NA|                        NA|               NA|                   NA|                                NA|                           NA|                               NA|                       NA|                    NA|                 NA|              NA|             NA|                NA|                          NA|                                 NA|                            NA|                                   NA|                               NA|                          NA|                         NA|                NA|                       NA|                  NA|                  NA|                   NA|                             NA|                    NA|                    NA|                  NA|                NA|                    NA|                          NA|                NA|                  NA|                            NA|                    NA|                                  NA|   Golf, Active Life|                NA|           NA|             NA|                  NA|              NA|               NA|              NA|\n",
      "|QXAEGFB4oINsVuTFx...|Emerald Chinese R...|30 Eglinton Avenue W|       Mississauga|   ON|    L5R 3E7| 43.6055| -79.65229|  2.5|       128.0|      1|                  True|                              True|     {'dessert': False|        'latenight': False|    'lunch': True|       'dinner': True|                   'brunch': False|          'breakfast': False}|                 {'garage': False|          'street': False|    'validated': False|        'lot': True| 'valet': False}|           True|           u'loud'|                        True|                               True|                             2|                                False|                            False|          {'romantic': False|          'intimate': False|   'classy': False|         'hipster': False|      'divey': False|   'touristy': False|      'trendy': False|               'upscale': False|       'casual': True}|                 False|               u'no'|       u'full_bar'|             u'casual'|                        True|             False|                  NA|                            NA|                    NA|                                  NA|                  NA|                NA|           NA|             NA|                  NA|              NA|               NA|              NA|\n",
      "|gnKjwL_1w79qoiV3I...|Musashi Japanese ...|10110 Johnston Rd...|         Charlotte|   NC|      28210|35.09256| -80.85913|  4.0|       170.0|      1|                  True|                              True|     {'dessert': False|        'latenight': False|    'lunch': True|       'dinner': True|                   'brunch': False|          'breakfast': False}|                 {'garage': False|          'street': False|    'validated': False|        'lot': True| 'valet': False}|          False|        u'average'|                        True|                               True|                             2|                                False|                             True|          {'romantic': False|          'intimate': False| 'touristy': False|         'hipster': False|      'divey': False|     'classy': False|      'trendy': False|               'upscale': False|       'casual': True}|                  True|               u'no'|  u'beer_and_wine'|              'casual'|                        True|             False|                True|                            NA|                    NA|                                  NA|                  NA|                NA|           NA|             NA|                  NA|              NA|               NA|              NA|\n",
      "|xvX2CttrVhyG2z1dF...|Farmers Insurance...|15655 W Roosevelt...|          Goodyear|   AZ|      85338|33.45561| -112.3956|  5.0|         3.0|      1|                    NA|                                NA|                    NA|                        NA|               NA|                   NA|                                NA|                           NA|                               NA|                       NA|                    NA|                 NA|              NA|             NA|                NA|                          NA|                                 NA|                            NA|                                   NA|                               NA|                          NA|                         NA|                NA|                       NA|                  NA|                  NA|                   NA|                             NA|                    NA|                    NA|                  NA|                NA|                    NA|                          NA|                NA|                  NA|                            NA|                    NA|                                  NA|Insurance, Financ...|          8:0-17:0|     8:0-17:0|       8:0-17:0|            8:0-17:0|        8:0-17:0|               NA|              NA|\n",
      "|HhyxOkGAM07SRYtlQ...| Queen City Plumbing|4209 Stuart Andre...|         Charlotte|   NC|      28217|35.19001| -80.88722|  4.0|         4.0|      1|                    NA|                                NA|                    NA|                        NA|               NA|                   NA|                                NA|                           NA|                               NA|                       NA|                    NA|                 NA|              NA|             NA|                NA|                          NA|                                 NA|                            NA|                                 True|                            False|                        True|                         NA|                NA|                       NA|                  NA|                  NA|                   NA|                             NA|                    NA|                    NA|                  NA|                NA|                    NA|                          NA|                NA|                  NA|                            NA|                    NA|                                  NA|Plumbing, Shoppin...|          7:0-23:0|     7:0-23:0|       7:0-23:0|            7:0-23:0|        7:0-23:0|         7:0-23:0|        7:0-23:0|\n",
      "|68dUKd8_8liJ7in4a...|       The UPS Store|Credit Valley Tow...|       Mississauga|   ON|    L5V 0B1|43.59948| -79.71158|  2.5|         3.0|      1|                    NA|                                NA|                    NA|          {'garage': False|  'street': False|   'validated': False|                      'lot': False|              'valet': False}|                               NA|                       NA|                    NA|                 NA|               2|             NA|                NA|                          NA|                                 NA|                            NA|                                   NA|                               NA|                          NA|                         NA|                NA|                       NA|                  NA|                  NA|                   NA|                             NA|                    NA|                    NA|                  NA|                NA|                    NA|                          NA|                NA|                  NA|                            NA|                    NA|                                  NA|                  NA|                NA|           NA|             NA|Shipping Centers,...|        9:0-19:0|         9:0-20:0|        9:0-20:0|\n",
      "|5JucpCfHZltJh5r1J...|    Edgeworxx Studio|20 Douglas Woods ...|           Calgary|   AB|    T2Z 1K4|50.94365|-114.00183|  3.5|         7.0|      1|                    NA|                                NA|                    NA|          {'garage': False|  'street': False|   'validated': False|                       'lot': True|              'valet': False}|                               NA|                       NA|                    NA|                 NA|               2|             NA|                NA|                          NA|                                 NA|                            NA|                                   NA|                               NA|                          NA|                         NA|                NA|                       NA|                True|                  NA|                   NA|                             NA|                    NA|                    NA|                  NA|                NA|                    NA|                          NA|                NA|                  NA|                            NA|                    NA|                                  NA|                  NA|                NA|           NA|             NA|Beauty & Spas, Ha...|              NA|               NA|              NA|\n",
      "|gbQN7vr_caG_A1ugS...|           Supercuts|4545 E Tropicana ...|         Las Vegas|   NV|      89121|36.09987|-115.07457|  3.5|         3.0|      1|                  True|                                NA|                    NA|                        NA|               NA|                   NA|                                NA|                           NA|                                3|                       NA|                 False|                 NA|              NA|             NA|                NA|                          NA|                                 NA|                            NA|                                 True|                               NA|                       False|                         NA|                NA|                       NA|                  NA|                  NA|                   NA|                             NA|                    NA|                    NA|                  NA|                NA|                    NA|                          NA|                NA|                  NA|                            NA|                    NA|                                  NA|Hair Salons, Hair...|         10:0-19:0|    10:0-19:0|      10:0-19:0|           10:0-19:0|       10:0-19:0|        10:0-19:0|       10:0-18:0|\n",
      "|Y6iyemLX_oylRpnr3...|Vita Bella Fine D...|5940 W Union Hill...|          Glendale|   AZ|      85308|33.65481|-112.18857|  5.0|         8.0|      0|                    NA|                                NA|                    NA|          {'garage': False|  'street': False|   'validated': False|                       'lot': True|              'valet': False}|                               NA|                       NA|                    NA|                 NA|               2|             NA|             False|                          NA|                                 NA|                            NA|                                   NA|                               NA|                          NA|                         NA|              True|                       NA|                True|                  NA|                   NA|                             NA|                    NA|                    NA|                  NA|                NA|                    NA|                          NA|                NA|                  NA|                            NA|                    NA|                                  NA|                  NA|                NA|           NA|             NA|Nail Salons, Beau...|              NA|        12:0-18:0|       10:0-18:0|\n",
      "|4GBVPIYRvzGh4K4Tk...| Options Salon & Spa|     21689 Lorain Rd|     Fairview Park|   OH|      44126|41.44083|  -81.8541|  4.5|         8.0|      1|                    NA|                                NA|                    NA|          {'garage': False|  'street': False|   'validated': False|                       'lot': True|              'valet': False}|                               NA|                       NA|                    NA|                 NA|               2|             NA|                NA|                          NA|                                 NA|                            NA|                                   NA|                               NA|                          NA|                         NA|              True|                       NA|               False|               False|                   NA|                             NA|                    NA|                    NA|                  NA|                NA|                    NA|                          NA|                NA|                  NA|                            NA|                    NA|                                  NA|                  NA|                NA|           NA|             NA|Beauty & Spas, Na...|              NA|         9:0-21:0|        9:0-21:0|\n",
      "|fcXOEZdXYeZqnQ3lG...|Nucleus Informati...|1210 8th Street S...|           Calgary|   AB|    T2R 1L3|51.04177|-114.08111|  2.0|         5.0|      1|                    NA|                                NA|                    NA|          {'garage': False|   'street': True|   'validated': False|                      'lot': False|              'valet': False}|                               NA|                       NA|                    NA|                 NA|               1|             NA|             False|                          NA|                                 NA|                            NA|                                   NA|                               NA|                          NA|                         NA|                NA|                       NA|               False|                  NA|                   NA|                             NA|                    NA|                    NA|                  NA|                NA|                    NA|                          NA|                NA|                  NA|                            NA|                    NA|                                  NA|                  NA|                NA|           NA|             NA|Local Services, P...|        9:0-17:0|         9:0-17:0|        9:0-17:0|\n",
      "|1Dfx3zM-rW4n-31Ke...|           Taco Bell|2450 E Indian Sch...|           Phoenix|   AZ|      85016|33.49519|-112.02859|  3.0|        18.0|      1|                  True|                             False|                    NA|          {'garage': False|  'street': False|   'validated': False|                      'lot': False|              'valet': False}|                               NA|                       NA|                    NA|               True|               1|          False|                NA|          {'romantic': False|                  'intimate': False|             'touristy': False|                     'hipster': False|                   'divey': False|             'classy': False|            'trendy': False|  'upscale': False|         'casual': False}|               False|               u'no'|              u'none'|                      u'casual'|                  True|                 False|                True|                NA|                    NA|                          NA|                NA|                  NA|                            NA|                    NA|                                  NA|                  NA|                NA|           NA|             NA|                  NA|              NA|               NA|              NA|\n",
      "|5t3KVdMnFgAYmSl1w...|The Kilted Buffal...|119 Landings Dr, ...|       Mooresville|   NC|      28117|35.52741|   -80.868|  3.5|         9.0|      1|                 False|                              True|                    NA|          {'garage': False|  'street': False|   'validated': False|                      'lot': False|              'valet': False}|                               NA|                'average'|                    NA|                 NA|               1|           True|              True|          {'touristy': False|                   'hipster': False|             'romantic': False|                       'divey': False|                'intimate': False|             'trendy': False|           'upscale': False|   'classy': False|         'casual': False}|                True|              'free'|      'beer_and_wine'|                             NA|                  True|                    NA|                True|                NA|                 False|                          NA|      {'dj': False| 'background_musi...|             'no_music': False|      'jukebox': False|                       'live': False|      'video': False| 'karaoke': False}|         True|          False|                True|{'monday': False| 'tuesday': False| 'friday': False|\n",
      "|fweCYi8FmbJXHCqLn...|       Marco's Pizza|     5981 Andrews Rd|Mentor-on-the-Lake|   OH|      44060|41.70852| -81.35956|  4.0|        16.0|      1|                  True|                             False|                    NA|                      None|               NA|                   NA|                                NA|                         True|                                2|                    False|                  True|               None|              NA|             NA|           u'none'|                   u'casual'|                               True|                          True|                                 True|                               NA|                          NA|                         NA|                NA|                       NA|                  NA|                  NA|                   NA|                             NA|                    NA|                    NA|                  NA|                NA|                    NA|                          NA|                NA|                  NA|                            NA|                    NA|                                  NA|Italian, Restaura...|          10:0-0:0|     10:0-0:0|       10:0-0:0|            10:0-0:0|        10:0-1:0|         10:0-1:0|        10:0-0:0|\n",
      "|-K4gAv8_vjx8-2Bxk...|          Baby Cakes|        4145 Erie St|        Willoughby|   OH|      44094|41.63986|  -81.4064|  3.0|         7.0|      1|                    NA|                                NA|                    NA|          {'garage': False|  'street': False|   'validated': False|                      'lot': False|              'valet': False}|                               NA|                       NA|                    NA|               True|               1|             NA|                NA|                          NA|                                 NA|                            NA|                                   NA|                               NA|                          NA|                      False|              True|                       NA|                  NA|                  NA|                   NA|                             NA|                    NA|                    NA|                  NA|                NA|                    NA|                          NA|                NA|                  NA|                            NA|                    NA|                                  NA|                  NA|                NA|           NA|             NA|      Bakeries, Food|              NA|        11:0-17:0|       11:0-17:0|\n",
      "|A98xW4qb7vOTguggH...|   Hot Yoga Wellness|    1455 16th Avenue|     Richmond Hill|   ON|    L4B 3G6| 43.8615|  -79.3885|  4.0|         4.0|      1|                    NA|                                NA|                    NA|          {'garage': False|  'street': False|   'validated': False|                       'lot': True|              'valet': False}|                               NA|                       NA|                    NA|                 NA|              NA|             NA|              True|                          NA|                                 NA|                            NA|                                   NA|                               NA|                          NA|                         NA|                NA|                       NA|               False|                  NA|                   NA|                             NA|                    NA|                    NA|                  NA|             False|                 False|                          NA|                NA|                  NA|                            NA|                    NA|                                  NA|                  NA|                NA|           NA|             NA|Fitness & Instruc...|       16:0-23:0|        16:0-23:0|       16:0-23:0|\n",
      "|giC3pVVFxCRR89rAp...|          Knot Salon|4848 E Cactus Rd,...|        Scottsdale|   AZ|      85254|33.60007|-111.97737|  5.0|         5.0|      1|                  True|                                NA|                    NA|          {'garage': False|  'street': False|   'validated': False|                      'lot': False|              'valet': False}|                               NA|                       NA|                    NA|                 NA|               2|             NA|                NA|                          NA|                                 NA|                            NA|                                   NA|                               NA|                          NA|                         NA|              True|                       NA|                True|                  NA|                   NA|                             NA|                    NA|                    NA|                  NA|                NA|                    NA|                          NA|                NA|                  NA|                            NA|                    NA|                                  NA|                  NA|                NA|           NA|             NA|Hair Stylists, Be...|         0:0-0:0|         9:0-19:0|        9:0-17:0|\n",
      "|PZ-LZzSlhSe9utkQY...|Carluccio's Tivol...|1775 E Tropicana ...|         Las Vegas|   NV|      89119|36.10002|-115.12853|  4.0|        40.0|      0|                  True|                              True|                    NA|          {'garage': False|  'street': False|   'validated': False|                       'lot': True|              'valet': False}|                             True|                 u'quiet'|                    NA|               True|               2|          False|                NA|           {'romantic': True|                  'intimate': False|             'touristy': False|                     'hipster': False|                   'divey': False|              'classy': True|            'trendy': False|  'upscale': False|         'casual': False}|               False|               u'no'|          u'full_bar'|                       'casual'|                  True|                 False|                True|                NA|                    NA|                          NA|                NA|                  NA|                            NA|                    NA|                                  NA|                  NA|                NA|         'no'|             NA|                  NA|              NA|               NA|              NA|\n",
      "|nh_kQ16QAoXWwqZ05...|Myron Hensel Phot...|                null|         Las Vegas|   NV|      89121|36.11655|-115.08811|  5.0|        21.0|      1|                    NA|                                NA|                    NA|                        NA|               NA|                   NA|                                NA|                           NA|                               NA|                       NA|                    NA|                 NA|              NA|             NA|                NA|                          NA|                                 NA|                            NA|                                 True|                               NA|                          NA|                         NA|                NA|                       NA|                  NA|                  NA|                   NA|                             NA|                    NA|                    NA|                  NA|                NA|                    NA|                          NA|                NA|                  NA|                            NA|                    NA|                                  NA|Event Planning & ...|           0:0-0:0|      0:0-0:0|        0:0-0:0|             0:0-0:0|         0:0-0:0|          0:0-0:0|         0:0-0:0|\n",
      "|zSpQmEBvRe3IhTUlM...|  Totum Life Science|445 King Street W...|           Toronto|   ON|    M5V 1K4|43.64504|  -79.3958|  4.0|        23.0|      1|                 False|                                NA|                    NA|                        NA|               NA|                   NA|                                NA|                           NA|                               NA|                       NA|                    NA|                 NA|              NA|             NA|                NA|                          NA|                                 NA|                            NA|                                   NA|                               NA|                       False|                       True|                NA|                       NA|                  NA|                  NA|                   NA|                          False|                    NA|                    NA|                  NA|                NA|                    NA|                          NA|                NA|                  NA|                            NA|                    NA|                                  NA|Trainers, Health ...|          6:0-22:0|     6:0-22:0|       6:0-22:0|            6:0-22:0|        6:0-22:0|         8:0-18:0|        9:0-18:0|\n",
      "+--------------------+--------------------+--------------------+------------------+-----+-----------+--------+----------+-----+------------+-------+----------------------+----------------------------------+----------------------+--------------------------+-----------------+---------------------+----------------------------------+-----------------------------+---------------------------------+-------------------------+----------------------+-------------------+----------------+---------------+------------------+----------------------------+-----------------------------------+------------------------------+-------------------------------------+---------------------------------+----------------------------+---------------------------+------------------+-------------------------+--------------------+--------------------+---------------------+-------------------------------+----------------------+----------------------+--------------------+------------------+----------------------+----------------------------+------------------+--------------------+------------------------------+----------------------+------------------------------------+--------------------+------------------+-------------+---------------+--------------------+----------------+-----------------+----------------+\n",
      "only showing top 20 rows\n",
      "\n"
     ]
    }
   ],
   "source": [
    "yelp_business.show()"
   ]
  },
  {
   "cell_type": "code",
   "execution_count": 12,
   "metadata": {},
   "outputs": [],
   "source": [
    "#Read yelp checking data\n",
    "yelp_checkin = spark.read\\\n",
    "  .format('csv')\\\n",
    "  .option('header', 'true')\\\n",
    "  .option('inferSchema', 'true')\\\n",
    "  .load('s3://bigdataclasslhn/Prj_Yelp/yelp_checkin.csv')"
   ]
  },
  {
   "cell_type": "code",
   "execution_count": 10,
   "metadata": {},
   "outputs": [
    {
     "name": "stdout",
     "output_type": "stream",
     "text": [
      "root\n",
      " |-- review_id: string (nullable = true)\n",
      " |-- user_id: string (nullable = true)\n",
      " |-- business_id: string (nullable = true)\n",
      " |-- stars: string (nullable = true)\n",
      " |-- useful: string (nullable = true)\n",
      " |-- funny: string (nullable = true)\n",
      " |-- cool: string (nullable = true)\n",
      " |-- text: string (nullable = true)\n",
      " |-- date: string (nullable = true)\n",
      "\n"
     ]
    }
   ],
   "source": [
    "yelp_checkin.printSchema()"
   ]
  },
  {
   "cell_type": "code",
   "execution_count": 9,
   "metadata": {},
   "outputs": [],
   "source": [
    "#read yelp checking data\n",
    "yelp_review = spark.read\\\n",
    "  .format('csv')\\\n",
    "  .option('header', 'true')\\\n",
    "  .option('inferSchema', 'true')\\\n",
    "  .load('s3://bigdataclasslhn/Prj_Yelp/yelp_review.csv')\n"
   ]
  },
  {
   "cell_type": "code",
   "execution_count": 11,
   "metadata": {},
   "outputs": [
    {
     "name": "stdout",
     "output_type": "stream",
     "text": [
      "root\n",
      " |-- review_id: string (nullable = true)\n",
      " |-- user_id: string (nullable = true)\n",
      " |-- business_id: string (nullable = true)\n",
      " |-- stars: string (nullable = true)\n",
      " |-- useful: string (nullable = true)\n",
      " |-- funny: string (nullable = true)\n",
      " |-- cool: string (nullable = true)\n",
      " |-- text: string (nullable = true)\n",
      " |-- date: string (nullable = true)\n",
      "\n"
     ]
    }
   ],
   "source": [
    "yelp_review.printSchema()"
   ]
  },
  {
   "cell_type": "code",
   "execution_count": 30,
   "metadata": {},
   "outputs": [
    {
     "name": "stdout",
     "output_type": "stream",
     "text": [
      "+--------------------+--------------------+--------------------+--------------------+--------+--------------------+--------------------+--------------------+--------------------+\n",
      "|           review_id|             user_id|         business_id|               stars|  useful|               funny|                cool|                text|                date|\n",
      "+--------------------+--------------------+--------------------+--------------------+--------+--------------------+--------------------+--------------------+--------------------+\n",
      "|Q1sbwvVQXV2734tPg...|hG7b0MtEbXx5QzbzE...|ujmEBvifdJM6h6RLv...|                   1|       6|                   1|                   0|Total bill for th...| 2013-05-07 04:34:36|\n",
      "|GJXCdrto3ASJOqKeV...|yXQM5uF2jS6es16SJ...|NZnhc2sEQy3RmzKTZ...|                   5|       0|                   0|                   0|I *adore* Travis ...|                null|\n",
      "|Travis's greets y...|             not two| but THREE people...| as it's evident ...|    null|                null|                null|                null|                null|\n",
      "|Next Travis start...|                null|                null|                null|    null|                null|                null|                null|                null|\n",
      "|              Travis| I will see you e...| 2017-01-14 21:30:33|                null|    null|                null|                null|                null|                null|\n",
      "|2TzJjDVDEuAW6MR5V...|n6-Gk65cPZL6Uz8qR...|WTqjgwHlXbSFevF32...|                   5|       3|                   0|                   0|I have to say tha...| 2016-11-09 20:09:03|\n",
      "|yi0R0Ugj_xUx_Nek0...|dacAIZ6fTM6mqwW5u...|ikCg8xy5JIg_NGPx-...|                   5|       0|                   0|                   0|Went in for a lun...|                null|\n",
      "|Drink prices were...|                null|                null|                null|    null|                null|                null|                null|                null|\n",
      "|          The Server|                Dawn| was friendly and...|                null|    null|                null|                null|                null|                null|\n",
      "|        In summation| a great pub expe...| 2018-01-09 20:56:38|                null|    null|                null|                null|                null|                null|\n",
      "|11a8sVPMUFtaC7_AB...|ssoyf2_x0EQMed6fg...|b1b1eb3uo-w561D0Z...|                   1|       7|                   0|                   0|\"Today was my sec...| and under justif...|\n",
      "|fdiNeiN_hoCxCMy2w...|w31MKYsNFMrjhWxxA...|eU_713ec6fTGNO4Be...|                   4|       0|                   0|                   0|\"I'll be the firs...|                null|\n",
      "|My hubby got the ...|                null|                null|                null|    null|                null|                null|                null|                null|\n",
      "|                 So-|                null|                null|                null|    null|                null|                null|                null|                null|\n",
      "|Do order the cala...|                null|                null|                null|    null|                null|                null|                null|                null|\n",
      "|If they have the ...| I highly recomme...|                null|                null|    null|                null|                null|                null|                null|\n",
      "|Do make a reserva...| 2013-01-20 13:25:59|                null|                null|    null|                null|                null|                null|                null|\n",
      "|G7XHMxG0bx9oBJNEC...|jlu4CztcSxrKx56ba...|3fw2X5bZYeW9xCz_z...|                   3|       5|                   4|                   5|Tracy dessert had...|                null|\n",
      "|Came in for some ...| and I must say t...| which I could ta...|                null|    null|                null|                null|                null|                null|\n",
      "|A simple taro wit...| it would probabl...| I think I can st...| which is more re...| but wow| more than $5 is ...| it is Tracy Dessert| and they are a l...|                null|\n",
      "+--------------------+--------------------+--------------------+--------------------+--------+--------------------+--------------------+--------------------+--------------------+\n",
      "only showing top 20 rows\n",
      "\n"
     ]
    }
   ],
   "source": [
    "yelp_review.show()"
   ]
  },
  {
   "cell_type": "code",
   "execution_count": 14,
   "metadata": {},
   "outputs": [],
   "source": [
    "#read yelp tip data\n",
    "yelp_tip = spark.read\\\n",
    "  .format('csv')\\\n",
    "  .option('header', 'true')\\\n",
    "  .option('inferSchema', 'true')\\\n",
    "  .load('s3://bigdataclasslhn/Prj_Yelp/yelp_tip.csv')\n"
   ]
  },
  {
   "cell_type": "code",
   "execution_count": 15,
   "metadata": {},
   "outputs": [
    {
     "name": "stdout",
     "output_type": "stream",
     "text": [
      "root\n",
      " |-- user_id: string (nullable = true)\n",
      " |-- business_id: string (nullable = true)\n",
      " |-- text: string (nullable = true)\n",
      " |-- date: string (nullable = true)\n",
      " |-- compliment_count: string (nullable = true)\n",
      "\n"
     ]
    }
   ],
   "source": [
    "yelp_tip.printSchema()"
   ]
  },
  {
   "cell_type": "code",
   "execution_count": 18,
   "metadata": {},
   "outputs": [
    {
     "name": "stdout",
     "output_type": "stream",
     "text": [
      "+--------------------+--------------------+--------------------+-------------------+----------------+\n",
      "|             user_id|         business_id|                text|               date|compliment_count|\n",
      "+--------------------+--------------------+--------------------+-------------------+----------------+\n",
      "|UPw5DWs_b-e2JRBS-...|VaKXUpmWTTWDKbpJ3...|Great for watchin...|2014-03-27 03:51:24|               0|\n",
      "|Ocha4kZBHb4JK0lOW...|OPiPeoJiv92rENwbq...|Happy Hour 2-4 da...|2013-05-25 06:00:56|               0|\n",
      "|jRyO2V1pA4CdVVqCI...|5KheTjYPu1HcQzQFt...|Good chips and sa...|2011-12-26 01:46:17|               0|\n",
      "|FuTJWFYm4UKqewaos...|TkoyGi8J7YFjA6Sba...|The setting and d...|2014-03-23 21:32:49|               0|\n",
      "|LUlKtaM3nXd-E4N4u...|AkL6Ous6A1atZejfZ...|Molly is definate...|2012-10-06 00:19:27|               0|\n",
      "|iAd8XaHxv05iXyEiZ...|kj1p6NwUGROOoqNyS...|It's true! The dr...|2011-12-31 18:02:42|               0|\n",
      "|w8p4JW6-ERsbg8aB5...|0hudPyuCBlKg79OwK...|Only worth a visi...|2012-10-11 23:06:21|               0|\n",
      "|CaFbX7topxdLpBJ_S...|r49iBfbnfoK7yt4rd...|Hands down best A...|2016-01-05 06:39:33|               0|\n",
      "|VLy6l8L72adD7iTBN...|YCRCFBr6myPS49on2...|Sat in the drive ...|2017-03-13 03:29:40|               0|\n",
      "|zrvk0-B91ahJRSB-U...|RTBIiq-fJUXRsrzbL...|Okay so I had a g...|2013-02-08 20:55:15|               0|\n",
      "|8zXgNCkusOHMwh5Tj...|qrSsS0pk7SL67MP5n...|More parking in t...|2013-12-22 05:10:12|               0|\n",
      "|NXXC2iU0o3tDVu6YN...|oGASRzKGpuiP12ilQ...|Best pretzels thi...|2010-03-04 15:41:16|               0|\n",
      "|DfvT4F5Eqx9Xr3Ei3...|63bHLJUomC22Xdm3I...|Having the yellow...|2011-10-18 18:29:05|               0|\n",
      "|oIHhfloe5VQamDFDB...|wZhB4U003eg2GQ-F7...|When you receive ...|2016-08-12 22:18:07|               0|\n",
      "|NEN5RFpZp7DE6K1PK...|Cni2l-VKG_pdospJ6...|2nd stop for the ...|2011-10-09 03:43:39|               0|\n",
      "|Fzz-0v1yHLaWuTV64...|EZZjaiV8ik05NUepq...|Really delicious ...|2018-02-14 21:35:49|               0|\n",
      "|CbmNBkKa9QKNxPiN_...|xZfPdAYeimiruXuGR...|            Dinner!!|2011-04-21 22:43:28|               0|\n",
      "|3KkT6SmPFLGvBS1pn...|D2nfOrnJ2OBlX_428...|Long lines at lun...|2011-12-30 17:10:16|               0|\n",
      "|kMcz3zQgNjZYV65qY...|C7JaaErXLB3B3486L...|Go somewhere else...|               null|            null|\n",
      "|                Rude| assuming sales s...|  The black sales...|2013-02-17 06:22:49|               0|\n",
      "|JnHaPHkRO2_8V-Dys...|j9I2YkFCOKyAEb_3F...|#poutinecrawl #yy...|2011-04-09 18:58:36|               0|\n",
      "|EZbvMdvCA2D9vF6Vj...|LrO_Xy6lfpbTgFoJc...|I love the gourme...|2015-05-21 01:13:24|               0|\n",
      "|pDAqvfflIM4AM23VR...|0PVxodALQu-soL5J8...|If there's a more...|2012-07-24 16:24:09|               0|\n",
      "|gGlFgp4nXNL5azpUt...|cnfYugAYBFKgwDCTA...|                  No|2015-05-29 04:25:09|               0|\n",
      "|HmILc-lgVKZS7mWNd...|1l7gJx3BVWBZ8Wx1v...|\"New Dr Who! He t...|2013-11-30 04:03:27|               0|\n",
      "|lesnCKZUYH554j-ED...|7sPNbCx7vGAaH7SbN...|Late night burger...|2012-08-02 06:25:54|               0|\n",
      "|alUuOskFSl1bODjnc...|PEb1Hm0kQ52cObjPA...|Cash only! ATM on...|2014-09-06 23:29:08|               0|\n",
      "|hf27xTME3EiCp6NL6...|i6G3zsEJIqpGktMWy...|       Holiday party|2013-12-19 21:29:53|               0|\n",
      "|TYCkjEHPSJSnFb6m6...|XP0YZRa6Un25QaOH2...|oh damn. run do n...|2011-12-30 22:00:46|               0|\n",
      "|r64WY53LOMRPowHDu...|p-8AMN9Q0qwym-3Pd...| Good mix of cuisine|2017-03-10 19:32:16|               0|\n",
      "|r5ggPC6OccLk6dDl5...|wyPkRQg3F5Yz2WqRF...|Burgers, salads, ...|2010-12-18 02:00:22|               0|\n",
      "|8aXyfFUFrypoE6PkU...|PtwW1Hwme8Y0wy54z...|Wonderful food an...|2014-06-07 17:04:01|               0|\n",
      "|O_GWZZfQx7qv-n-CN...|IzC1oXHT_TxYej_6Y...|Over 100 group fi...|2012-10-16 18:25:20|               0|\n",
      "|lhPuskGXTRSjCwKOO...|e5Qw3r7mkwPLcdDzZ...|         good stuff!|2011-07-12 20:41:17|               0|\n",
      "|ZXIOnRHvDUK-corzr...|7jKDOB9b_nijq0-dj...|Tara did a great ...|2016-05-22 00:11:14|               0|\n",
      "|2EuPAGalYnP7eSxPg...|NqCHqgF_FY0Aw9gD-...|Its open! Lobby c...|2014-06-03 04:23:22|               1|\n",
      "|ZK6aHHTiNlQWCCmv6...|DkYS3arLOhA8si5uU...|You know I had to...|2012-11-04 03:58:17|               0|\n",
      "|0FMte0z-repSVWSJ_...|6pSwIh7gbTEpfxDlK...|           PTL time!|2012-05-25 00:05:01|               0|\n",
      "|uu-gMsKDyKU_9MUIt...|I0f12eU-xFn6Kd_4H...|  Soup was awesome!!|2016-07-30 08:08:12|               0|\n",
      "|CcJQAZfk6QkaBjPnK...|vYn0gishV27DpfM_l...|Southwestern egg ...|2013-12-11 17:45:51|               0|\n",
      "|ge72-Ti-WqR3w0YEN...|Lzv68iVkRHstVvW3a...|So far everything...|2015-09-28 00:55:47|               0|\n",
      "|gtwM4ijo65AN4DvXd...|19umlhmVB9O3njIBf...|Hey mom look at m...|2014-08-24 03:56:50|               1|\n",
      "|t511fq0nFeppix5_M...|ZhLSAiRj9kANxf8m2...|New Milk Tea Reci...|2017-03-21 22:30:13|               0|\n",
      "|29yBaTFMSh-l6wNwy...|jaJnPIX9VxsFyfV5z...|Lots of people on...|2011-01-01 23:54:04|               0|\n",
      "|qvvpeBLkV4Shx0Teh...|XXGzCIcxzAZ6H98mx...|Um. All kinds of ...|2010-04-26 15:34:54|               0|\n",
      "|R_wlZO-jKFGEVJnSf...|Z15a7_8FQ82_baSJi...|Tons of wing flav...|2012-08-03 21:54:49|               0|\n",
      "|aoO6EXKupIDDDMMK4...|e7207sqC-pSn6GIf3...| Birthday breakfast!|2013-02-21 13:29:23|               0|\n",
      "|we_ONmXR0wP5-Ejx9...|JTl1nXrukJTScI0Uz...|Try the green gab...|2016-11-18 20:23:00|               0|\n",
      "|akUC5qP68u0_frTwH...|IBxD5xo8o3FDquF1d...|Save room for a y...|2013-02-19 20:45:57|               0|\n",
      "|syA7uYoDjohc7gWBW...|V3U21fM0in_0qpKUM...|15 dollar credit ...|2012-03-19 01:47:32|               0|\n",
      "|xceJT1G2Yhel3W2lR...|enzgrlkltK3PO-KGg...|  Mani/Pedi for $15.|2012-07-27 19:27:17|               0|\n",
      "|mEiQo6a56dtSXlZEl...|11fdZ98T5ddYgc12b...|You can order cus...|2017-09-22 06:21:10|               0|\n",
      "|330erZ8TCzA2eoexQ...|6sKaAF8WhWyyCjfZr...|     Last time... =(|2011-04-07 01:04:16|               0|\n",
      "|T1jicY-vxpCOTl5SI...|_sOni_t0FvAQuUDBE...|        Busy tonight|2012-03-11 07:31:32|               0|\n",
      "|OGufU1fcIoHbnoo-u...|B1I54bu8w5MikyFr7...|Dr. Spilotro is t...|2017-06-28 18:06:39|               0|\n",
      "|2sNEKxKcGaTVBJiok...|Yk7fxB4-8MeFd6HkE...|Super friendly! T...|2014-03-28 19:23:08|               0|\n",
      "|kkbZPTl9Q4KVwMMBx...|fN_I3jP7RD2llubTv...|Red velvet pancak...|2017-11-17 17:04:26|               0|\n",
      "|PIaq7y05SdYBqISlN...|FzY_eaGmRAOG1TvLK...|Hurry!  My Hot St...|2011-07-14 23:31:37|               0|\n",
      "|anHzk1C0oQRtfuDj7...|9a3DrZvpYxVs3k_qw...|           Mama Mia!|2011-07-15 01:26:26|               0|\n",
      "|N3ELg9zITVB5Ij1Cn...|urWkq22ug6ppT4a6a...|My first time eat...|2016-01-14 00:22:34|               0|\n",
      "|9uE0smG2bwgkI95RP...|E9aC5bLfXdQVZ5csv...|Green papaya sala...|2012-01-08 21:40:43|               0|\n",
      "|rNjgVKaBh1PlUA6dY...|zvQIEpJUmLLmMMffN...|Gas price 3.49 re...|2014-06-07 19:16:12|               0|\n",
      "|tAw16nAiAcAm8V7H1...|OjnRf8yDGEBCoUDdc...|    Yay hushpuppies!|2012-10-06 02:19:39|               0|\n",
      "|VqBSNxY9nbGdUGZ5f...|fCq3AVUzWDarScN02...|The iced kicker i...|2016-04-17 18:26:57|               0|\n",
      "|5wT0vDycEzgq95yVC...|sDT7CvVLsPG1JizVd...|Grill marinated p...|2011-04-15 03:38:54|               0|\n",
      "|Hc2tC2TDMD1wDjp8a...|FgPANtTwZqXB-edLk...|Worst. Mexican. E...|2010-03-13 20:52:19|               0|\n",
      "|AIHzJz0AvTq0FxCLt...|yNPh5SO-7wr8HPpVC...|Yet another Busin...|2012-03-23 00:07:55|               0|\n",
      "|evDmfYHbxqDAy8_27...|GHS1rVjO-RMcRB6WJ...|Put lots of sunbl...|2011-07-18 01:49:00|               0|\n",
      "|_RvEDmpbQZulEdAV5...|xQLs0A2dzgXgJq6K2...|Annoying they don...|2012-01-09 19:46:53|               0|\n",
      "|FSJDnMPHNOpZrqR1w...|xWcFzMj1ekDoP1pg3...|The toffee and th...|2015-01-12 17:57:03|               0|\n",
      "|Q6OjHSEwO55rGLo0W...|aWVoSYc6LJLT2FrXf...|Great service, on...|2017-09-19 15:36:33|               0|\n",
      "|DiGzInTxDfhDGZe2u...|kVXyz0mYd7NaGuGdM...|Great bakery. Awe...|2015-12-31 05:44:31|               0|\n",
      "|KGQZvfuthc12iq7p_...|EXMLrw5uxng5z-T9Z...|Super nice staff ...|2012-10-06 19:54:17|               0|\n",
      "|T9xfkjF1R0a_fIjZ-...|Mn6PbumS7GL2v3jPi...|Ohh !!!! This pla...|2013-06-05 01:00:37|               0|\n",
      "|5G0RQ4kAsBOPSJsKw...|mlkVAm2DkGnKnNVR1...|One of the best l...|2017-06-18 16:59:17|               0|\n",
      "|vIsEJsMbPGOVsSp04...|Xwf022IffmZPq6V25...|We have 5 chairs ...|2012-05-18 20:39:45|               0|\n",
      "|RieCsZdS5b_I3p7lB...|7nv7W2ZaY8BJ9KZ-x...|Fuggit-about it i...|2012-07-25 03:35:40|               0|\n",
      "|AuSB69SSnaPNTwwbF...|bAHDSbpJE3kKJkW9O...|Very nice, helpfu...|2018-03-23 16:57:09|               0|\n",
      "|40m0541Z_KexYkdvv...|7SJoMX5ti-VoEsEW6...|Amazing talent, b...|2012-10-08 17:44:35|               0|\n",
      "|pkpzIhX1mNzLLEEyj...|-ME7F1xPHdtyje-Sz...|On their Sunday a...|2015-01-11 16:20:51|               0|\n",
      "|YB2SZbMgQHBOGOIsB...|maIam6HyU4FB_sBIk...|\"If you hit \"\"max...|2016-08-04 19:10:24|               0|\n",
      "|li7AtdY322dAqBGic...|1HD5iUUfVJDbfEBIn...|They now have PUD...|2014-09-30 00:36:07|               0|\n",
      "|SxcN4e5SKNhZ4wfEU...|gY95Q7BVB636-tAcD...|Good Mexican food...|2015-01-11 22:10:08|               0|\n",
      "|xTHoZ5p6P0SGr3Hh7...|GlRyWZMitKSTLufCP...|        Tip in cash.|2016-11-23 23:16:58|               0|\n",
      "|KQm9OgdujLZiMRTks...|W9YgQFWP1PkhYq7Nt...|    Remodeling time!|2010-04-24 16:35:01|               0|\n",
      "|D6iI_B7BFRGrNgDcZ...|9B1ivc2ztvI8XDJ5T...|Terrible service ...|2013-08-24 02:38:49|               0|\n",
      "|uPDo46xDK_DDqMChG...|6oKZoCI_0ePyzfRqS...|One of my favorit...|2014-06-08 02:20:51|               0|\n",
      "|wxeTtPILiMl1L-yBB...|1hkksm102yQY1DyfT...|Dinner time! Real...|2011-04-17 00:31:47|               0|\n",
      "|IMkif9yrPAxj-0-nr...|7sb2FYLS2sejZKxRY...|Be sure to try th...|2014-03-15 04:35:13|               0|\n",
      "|PcBKCHMhV0pxmYjzG...|Ax2JxfCUjfBkRxcqf...|No PB2 powdered p...|2012-03-12 22:34:09|               0|\n",
      "|6GJQc7rRKi2AeS1j4...|DgnIqlqYXdeg0UtSR...|Totally AWESOME f...|2015-01-16 03:40:26|               0|\n",
      "|Ryxj0u0AW3mRsRypd...|2SfSzEd3B7WimeZac...|Delicious food an...|2017-06-19 04:13:21|               0|\n",
      "|T1jicY-vxpCOTl5SI...|sw3uJ-R5u8_VnJ_Rr...|Better than the o...|2012-08-05 23:25:05|               1|\n",
      "|DBTa2O0kM6MqwP6IO...|CqVdLcbyZzfAjeCD1...|Permanantly close...|2014-03-16 20:45:34|               2|\n",
      "|BqAMAM9wkjUyOJzqY...|bNqBMZ00lnhhfxzV8...|Southern BBQ in M...|2013-06-01 20:30:47|               0|\n",
      "|cCtB72I6FfLDcU7Zk...|PVdy4harWpqcqQZH8...| Closed for business|2012-07-22 01:25:31|               0|\n",
      "|uS6-ArpRRwk768bRc...|nwHd2MbIGz0SNG8Gp...|Taco Tuesday, AGA...|2017-09-19 19:20:36|               0|\n",
      "|iyhqoE49PTX2VNITz...|-UWSsdJMRYU7L2Upy...|They not only che...|2012-01-03 18:09:12|               0|\n",
      "|PuCMCx8LvgUWgZhnt...|X-b4-QvZLENnf3yFw...|Sundays are so mu...|2014-06-07 20:30:18|               0|\n",
      "|_5uUOcTyKK1pQYwAL...|6qDRqHWqf0EeHupSU...|Not open on Sunda...|2014-08-25 18:23:14|               0|\n",
      "+--------------------+--------------------+--------------------+-------------------+----------------+\n",
      "only showing top 100 rows\n",
      "\n"
     ]
    }
   ],
   "source": [
    "yelp_tip.show(100)"
   ]
  },
  {
   "cell_type": "code",
   "execution_count": 19,
   "metadata": {},
   "outputs": [
    {
     "ename": "AttributeError",
     "evalue": "'DataFrame' object has no attribute 'countDistinct'",
     "output_type": "error",
     "traceback": [
      "\u001b[0;31m---------------------------------------------------------------------------\u001b[0m",
      "\u001b[0;31mAttributeError\u001b[0m                            Traceback (most recent call last)",
      "\u001b[0;32m<ipython-input-19-b7beee7dda9a>\u001b[0m in \u001b[0;36m<module>\u001b[0;34m\u001b[0m\n\u001b[0;32m----> 1\u001b[0;31m \u001b[0myelp_review\u001b[0m\u001b[0;34m.\u001b[0m\u001b[0mselect\u001b[0m\u001b[0;34m(\u001b[0m\u001b[0myelp_review\u001b[0m\u001b[0;34m.\u001b[0m\u001b[0mcountDistinct\u001b[0m\u001b[0;34m(\u001b[0m\u001b[0;34m\"business_id\"\u001b[0m\u001b[0;34m)\u001b[0m\u001b[0;34m)\u001b[0m\u001b[0;34m.\u001b[0m\u001b[0mshow\u001b[0m\u001b[0;34m(\u001b[0m\u001b[0;34m)\u001b[0m\u001b[0;34m\u001b[0m\u001b[0;34m\u001b[0m\u001b[0m\n\u001b[0m",
      "\u001b[0;32m/usr/lib/spark/python/pyspark/sql/dataframe.py\u001b[0m in \u001b[0;36m__getattr__\u001b[0;34m(self, name)\u001b[0m\n\u001b[1;32m   1298\u001b[0m         \u001b[0;32mif\u001b[0m \u001b[0mname\u001b[0m \u001b[0;32mnot\u001b[0m \u001b[0;32min\u001b[0m \u001b[0mself\u001b[0m\u001b[0;34m.\u001b[0m\u001b[0mcolumns\u001b[0m\u001b[0;34m:\u001b[0m\u001b[0;34m\u001b[0m\u001b[0;34m\u001b[0m\u001b[0m\n\u001b[1;32m   1299\u001b[0m             raise AttributeError(\n\u001b[0;32m-> 1300\u001b[0;31m                 \"'%s' object has no attribute '%s'\" % (self.__class__.__name__, name))\n\u001b[0m\u001b[1;32m   1301\u001b[0m         \u001b[0mjc\u001b[0m \u001b[0;34m=\u001b[0m \u001b[0mself\u001b[0m\u001b[0;34m.\u001b[0m\u001b[0m_jdf\u001b[0m\u001b[0;34m.\u001b[0m\u001b[0mapply\u001b[0m\u001b[0;34m(\u001b[0m\u001b[0mname\u001b[0m\u001b[0;34m)\u001b[0m\u001b[0;34m\u001b[0m\u001b[0;34m\u001b[0m\u001b[0m\n\u001b[1;32m   1302\u001b[0m         \u001b[0;32mreturn\u001b[0m \u001b[0mColumn\u001b[0m\u001b[0;34m(\u001b[0m\u001b[0mjc\u001b[0m\u001b[0;34m)\u001b[0m\u001b[0;34m\u001b[0m\u001b[0;34m\u001b[0m\u001b[0m\n",
      "\u001b[0;31mAttributeError\u001b[0m: 'DataFrame' object has no attribute 'countDistinct'"
     ]
    }
   ],
   "source": [
    "yelp_review.select(yelp_review.countDistinct(\"business_id\")).show()"
   ]
  },
  {
   "cell_type": "code",
   "execution_count": 21,
   "metadata": {},
   "outputs": [
    {
     "data": {
      "text/plain": [
       "1305397"
      ]
     },
     "execution_count": 21,
     "metadata": {},
     "output_type": "execute_result"
    }
   ],
   "source": [
    "yelp_review.select(\"business_id\").distinct().count()"
   ]
  },
  {
   "cell_type": "code",
   "execution_count": 22,
   "metadata": {},
   "outputs": [
    {
     "data": {
      "text/plain": [
       "192609"
      ]
     },
     "execution_count": 22,
     "metadata": {},
     "output_type": "execute_result"
    }
   ],
   "source": [
    "yelp_business.select(\"business_id\").distinct().count()"
   ]
  },
  {
   "cell_type": "code",
   "execution_count": 23,
   "metadata": {},
   "outputs": [
    {
     "ename": "TypeError",
     "evalue": "'Column' object is not callable",
     "output_type": "error",
     "traceback": [
      "\u001b[0;31m---------------------------------------------------------------------------\u001b[0m",
      "\u001b[0;31mTypeError\u001b[0m                                 Traceback (most recent call last)",
      "\u001b[0;32m<ipython-input-23-b8a5814cca3d>\u001b[0m in \u001b[0;36m<module>\u001b[0;34m\u001b[0m\n\u001b[0;32m----> 1\u001b[0;31m \u001b[0myelp_review\u001b[0m\u001b[0;34m[\u001b[0m\u001b[0;34m'business_id'\u001b[0m\u001b[0;34m]\u001b[0m\u001b[0;34m.\u001b[0m\u001b[0munique\u001b[0m\u001b[0;34m(\u001b[0m\u001b[0;34m)\u001b[0m\u001b[0;34m\u001b[0m\u001b[0;34m\u001b[0m\u001b[0m\n\u001b[0m",
      "\u001b[0;31mTypeError\u001b[0m: 'Column' object is not callable"
     ]
    }
   ],
   "source": [
    "yelp_review['business_id'].unique()"
   ]
  },
  {
   "cell_type": "code",
   "execution_count": 24,
   "metadata": {},
   "outputs": [],
   "source": [
    "import pandas as pd"
   ]
  },
  {
   "cell_type": "code",
   "execution_count": 27,
   "metadata": {},
   "outputs": [
    {
     "data": {
      "text/plain": [
       "696310"
      ]
     },
     "execution_count": 27,
     "metadata": {},
     "output_type": "execute_result"
    }
   ],
   "source": [
    "yelp_review.toPandas()['business_id'].nunique()"
   ]
  },
  {
   "cell_type": "code",
   "execution_count": 29,
   "metadata": {},
   "outputs": [
    {
     "data": {
      "text/plain": [
       "192609"
      ]
     },
     "execution_count": 29,
     "metadata": {},
     "output_type": "execute_result"
    }
   ],
   "source": [
    "yelp_business.toPandas()['business_id'].nunique()"
   ]
  },
  {
   "cell_type": "code",
   "execution_count": 31,
   "metadata": {},
   "outputs": [
    {
     "name": "stdout",
     "output_type": "stream",
     "text": [
      "+--------------------+\n",
      "|                text|\n",
      "+--------------------+\n",
      "|Total bill for th...|\n",
      "|I *adore* Travis ...|\n",
      "|                null|\n",
      "|                null|\n",
      "|                null|\n",
      "|I have to say tha...|\n",
      "|Went in for a lun...|\n",
      "|                null|\n",
      "|                null|\n",
      "|                null|\n",
      "|\"Today was my sec...|\n",
      "|\"I'll be the firs...|\n",
      "|                null|\n",
      "|                null|\n",
      "|                null|\n",
      "|                null|\n",
      "|                null|\n",
      "|Tracy dessert had...|\n",
      "|                null|\n",
      "| and they are a l...|\n",
      "+--------------------+\n",
      "only showing top 20 rows\n",
      "\n"
     ]
    }
   ],
   "source": [
    "yelp_review.select(\"text\").show()"
   ]
  },
  {
   "cell_type": "code",
   "execution_count": 33,
   "metadata": {},
   "outputs": [],
   "source": [
    "from pyspark.sql.types import *\n",
    "from pyspark.sql.functions import *"
   ]
  },
  {
   "cell_type": "code",
   "execution_count": 39,
   "metadata": {},
   "outputs": [],
   "source": [
    "yelp_review_id=yelp_review.withColumn(\"uniqueID\",monotonically_increasing_id())"
   ]
  },
  {
   "cell_type": "code",
   "execution_count": 36,
   "metadata": {},
   "outputs": [
    {
     "ename": "ImportError",
     "evalue": "cannot import name 'monotonicallyIncreasingId'",
     "output_type": "error",
     "traceback": [
      "\u001b[0;31m---------------------------------------------------------------------------\u001b[0m",
      "\u001b[0;31mImportError\u001b[0m                               Traceback (most recent call last)",
      "\u001b[0;32m<ipython-input-36-91ea3d41b4ff>\u001b[0m in \u001b[0;36m<module>\u001b[0;34m\u001b[0m\n\u001b[0;32m----> 1\u001b[0;31m \u001b[0;32mfrom\u001b[0m \u001b[0mpyspark\u001b[0m\u001b[0;34m.\u001b[0m\u001b[0msql\u001b[0m\u001b[0;34m.\u001b[0m\u001b[0mfunctions\u001b[0m \u001b[0;32mimport\u001b[0m \u001b[0mmonotonicallyIncreasingId\u001b[0m\u001b[0;34m\u001b[0m\u001b[0;34m\u001b[0m\u001b[0m\n\u001b[0m",
      "\u001b[0;31mImportError\u001b[0m: cannot import name 'monotonicallyIncreasingId'"
     ]
    }
   ],
   "source": [
    "from pyspark.sql.functions import monotonicallyIncreasingId"
   ]
  },
  {
   "cell_type": "code",
   "execution_count": null,
   "metadata": {},
   "outputs": [],
   "source": [
    "df.na.drop().show() "
   ]
  },
  {
   "cell_type": "code",
   "execution_count": null,
   "metadata": {},
   "outputs": [],
   "source": []
  },
  {
   "cell_type": "code",
   "execution_count": 40,
   "metadata": {},
   "outputs": [
    {
     "name": "stdout",
     "output_type": "stream",
     "text": [
      "+--------------------+--------+\n",
      "|                text|uniqueID|\n",
      "+--------------------+--------+\n",
      "|Total bill for th...|       0|\n",
      "|I *adore* Travis ...|       1|\n",
      "|                null|       2|\n",
      "|                null|       3|\n",
      "|                null|       4|\n",
      "|I have to say tha...|       5|\n",
      "|Went in for a lun...|       6|\n",
      "|                null|       7|\n",
      "|                null|       8|\n",
      "|                null|       9|\n",
      "|\"Today was my sec...|      10|\n",
      "|\"I'll be the firs...|      11|\n",
      "|                null|      12|\n",
      "|                null|      13|\n",
      "|                null|      14|\n",
      "|                null|      15|\n",
      "|                null|      16|\n",
      "|Tracy dessert had...|      17|\n",
      "|                null|      18|\n",
      "| and they are a l...|      19|\n",
      "+--------------------+--------+\n",
      "only showing top 20 rows\n",
      "\n"
     ]
    }
   ],
   "source": [
    "yelp_review_id.select(\"text\",\"uniqueID\").show()"
   ]
  },
  {
   "cell_type": "code",
   "execution_count": 41,
   "metadata": {},
   "outputs": [],
   "source": [
    "yelp_review_id2=yelp_review_id.select(\"text\",\"uniqueID\")"
   ]
  },
  {
   "cell_type": "code",
   "execution_count": 42,
   "metadata": {},
   "outputs": [],
   "source": [
    "yelp_review_id3=yelp_review_id2.na.drop()"
   ]
  },
  {
   "cell_type": "code",
   "execution_count": 43,
   "metadata": {},
   "outputs": [
    {
     "name": "stdout",
     "output_type": "stream",
     "text": [
      "+--------------------+--------+\n",
      "|                text|uniqueID|\n",
      "+--------------------+--------+\n",
      "|Total bill for th...|       0|\n",
      "|I *adore* Travis ...|       1|\n",
      "|I have to say tha...|       5|\n",
      "|Went in for a lun...|       6|\n",
      "|\"Today was my sec...|      10|\n",
      "|\"I'll be the firs...|      11|\n",
      "|Tracy dessert had...|      17|\n",
      "| and they are a l...|      19|\n",
      "|This place has go...|      22|\n",
      "|\"I was really loo...|      26|\n",
      "|It's a giant Best...|      34|\n",
      "|Like walking back...|      35|\n",
      "|Walked in around ...|      38|\n",
      "|Wow. So surprised...|      39|\n",
      "|Michael from Red ...|      44|\n",
      "|I cannot believe ...|      45|\n",
      "|You can't really ...|      46|\n",
      "|Great lunch today...|      47|\n",
      "|\"I love chinese f...|      48|\n",
      "|We've been a huge...|      54|\n",
      "+--------------------+--------+\n",
      "only showing top 20 rows\n",
      "\n"
     ]
    }
   ],
   "source": [
    "yelp_review_id3.show()"
   ]
  },
  {
   "cell_type": "code",
   "execution_count": null,
   "metadata": {},
   "outputs": [],
   "source": [
    "review.groupBy('stars').agg(count('review_id').alias('count')).sort('stars').show()"
   ]
  }
 ],
 "metadata": {
  "kernelspec": {
   "display_name": "Python 3",
   "language": "python",
   "name": "python3"
  },
  "language_info": {
   "codemirror_mode": {
    "name": "ipython",
    "version": 3
   },
   "file_extension": ".py",
   "mimetype": "text/x-python",
   "name": "python",
   "nbconvert_exporter": "python",
   "pygments_lexer": "ipython3",
   "version": "3.6.8"
  }
 },
 "nbformat": 4,
 "nbformat_minor": 4
}
